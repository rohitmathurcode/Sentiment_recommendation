{
 "cells": [
  {
   "cell_type": "code",
   "execution_count": 12,
   "metadata": {
    "id": "c9jQ1bI1i14o",
    "tags": []
   },
   "outputs": [],
   "source": [
    "from transformers import AutoTokenizer, AutoModelForSeq2SeqLM\n",
    "\n",
    "import warnings\n",
    "warnings.filterwarnings('ignore')"
   ]
  },
  {
   "cell_type": "markdown",
   "metadata": {
    "id": "OXPhEiFmi14r"
   },
   "source": [
    "## Aspect Term Extraction"
   ]
  },
  {
   "cell_type": "code",
   "execution_count": 31,
   "metadata": {
    "id": "ZHLBvPUXi14s",
    "outputId": "9fba9330-579b-401b-cb70-d5fe0af87d3c",
    "tags": []
   },
   "outputs": [
    {
     "name": "stdout",
     "output_type": "stream",
     "text": [
      "Model output:  India: neutral\n"
     ]
    }
   ],
   "source": [
    "#tokenizer = AutoTokenizer.from_pretrained(\"InstructABSA-main/Models/ate/allenaitk-instruct-base-def-pos-lapt2014_iabsa1\")\n",
    "#model = AutoModelForSeq2SeqLM.from_pretrained(\"kevinscaria/ate_tk-instruct-base-def-pos-neg-neut-combined\")\n",
    "tokenizer = AutoTokenizer.from_pretrained(\"./Models/ate/allenaitk-instruct-base-def-pos-lapt2014_iabsa1\")\n",
    "model = AutoModelForSeq2SeqLM.from_pretrained(\"./Models/ate/allenaitk-instruct-base-def-pos-lapt2014_iabsa1\")\n",
    "\n",
    "#InstructABSA-main/Models/ate/allenaitk-instruct-base-def-pos-lapt2014_iabsa1\n",
    "bos_instruction = \"\"\"Definition: The output will be the aspects (both implicit and explicit) which have an associated opinion that are extracted from the input text. In cases where there are no aspects the output should be noaspectterm.\n",
    "    Positive example 1-\n",
    "    input: Sector-wide consolidation and improving fundamentals will boost Shoppers Stop's valuation.\n",
    "    output: Shoppers Stop\n",
    "    Positive example 2-\n",
    "    input: Silver, gold jump on festival season demand, Asian market cues.\n",
    "    output: Silver, gold\n",
    "    Negative example 1-\n",
    "    input: Gold prices soften in early noon trade.\n",
    "    output: Gold\n",
    "    Negative example 2-\n",
    "    input: Grasim net falls 59% on lower sales.\n",
    "    output: keyboard\n",
    "    Neutral example 1-\n",
    "    input: Sebi's stand against reluctant promoters may benefit small investors.\n",
    "    output: Sebi\n",
    "    Neutral example 2-\n",
    "    input: See Nifty at 7,460 in the short-term: Mitesh Thacker.\n",
    "    output: Nifty\n",
    "    Now complete the following example-\n",
    "    input: \"\"\"\n",
    "delim_instruct = ''\n",
    "eos_instruct = ' \\noutput:'\n",
    "text = 'What the US debt crisis means for India and its forex investments'\n",
    "\n",
    "tokenized_text = tokenizer(bos_instruction + text + delim_instruct + eos_instruct, return_tensors=\"pt\")\n",
    "output = model.generate(tokenized_text.input_ids)\n",
    "print('Model output: ', tokenizer.decode(output[0], skip_special_tokens=True))"
   ]
  },
  {
   "cell_type": "markdown",
   "metadata": {
    "id": "beeQPeXZi14u"
   },
   "source": [
    "## Aspect Term Sentiment Classification"
   ]
  },
  {
   "cell_type": "code",
   "execution_count": 30,
   "metadata": {
    "id": "r5IDd3Bai14u",
    "outputId": "f2e628eb-500d-4e14-85f5-064a2d126abc",
    "tags": []
   },
   "outputs": [
    {
     "name": "stdout",
     "output_type": "stream",
     "text": [
      "Model output for US:  India: neutral\n",
      "Model output for driver:  India: neutral\n"
     ]
    }
   ],
   "source": [
    "#tokenizer = AutoTokenizer.from_pretrained(\"kevinscaria/atsc_tk-instruct-base-def-pos-neg-neut-combined\")\n",
    "tokenizer = AutoTokenizer.from_pretrained(\"./Models/ate/allenaitk-instruct-base-def-pos-lapt2014_iabsa1\")\n",
    "model = AutoModelForSeq2SeqLM.from_pretrained(\"./Models/ate/allenaitk-instruct-base-def-pos-lapt2014_iabsa1\")\n",
    "\n",
    "bos_instruction = \"\"\"Definition: The output will be 'positive' if the aspect identified in the sentence contains a positive sentiment. If the sentiment of the identified aspect in the input is negative the answer will be 'negative'. \n",
    "    Otherwise, the output should be 'neutral'. For aspects which are classified as noaspectterm, the sentiment is none.\n",
    "    Positive example 1-\n",
    "    input: Mid-cap funds can deliver more, stay put: Experts.\n",
    "    output: positive\n",
    "    Positive example 2- \n",
    "    input: Definance Technologies, now Hinduja Tech, plans to enter new markets.\n",
    "    output: positive\n",
    "    Negative example 1-\n",
    "    input: Foreign investors navigate turmoil in Chinese markets with new playbook.\n",
    "    output: negative\n",
    "    Negative example 2-\n",
    "    input: Stock Buzz: Sun Pharma may face resistance at current levels. \n",
    "    output: negative\n",
    "    Neutral example 1-\n",
    "    input: Sebi's stand against reluctant promoters may benefit small investors\n",
    "    output: neutral\n",
    "    Neutral example 2-\n",
    "    input: See Nifty at 7,460 in the short-term: Mitesh Thacker.\n",
    "    output: neutral\n",
    "    Now complete the following example-\n",
    "    input: \"\"\"\n",
    "delim_instruct = ' The aspect is '\n",
    "eos_instruct = '.\\noutput:'\n",
    "text = 'What the US debt crisis means for India and its forex investments'\n",
    "aspect_term = 'US'\n",
    "\n",
    "tokenized_text = tokenizer(bos_instruction + text + delim_instruct + aspect_term + eos_instruct, return_tensors=\"pt\")\n",
    "output = model.generate(tokenized_text.input_ids)\n",
    "print(f'Model output for {aspect_term}: ', tokenizer.decode(output[0], skip_special_tokens=True))\n",
    "\n",
    "aspect_term = 'driver'\n",
    "tokenized_text = tokenizer(bos_instruction + text + delim_instruct + aspect_term + eos_instruct, return_tensors=\"pt\")\n",
    "output = model.generate(tokenized_text.input_ids)\n",
    "print(f'Model output for {aspect_term}: ', tokenizer.decode(output[0], skip_special_tokens=True))"
   ]
  },
  {
   "cell_type": "markdown",
   "metadata": {
    "id": "cu1zXyUpi14v"
   },
   "source": [
    "## Joint Task - Aspect Term and Polarity Co Extraction"
   ]
  },
  {
   "cell_type": "code",
   "execution_count": 24,
   "metadata": {
    "id": "pWfFqQt6i14v",
    "outputId": "8d951aeb-d031-4107-f4a5-70d8f2279be2",
    "tags": []
   },
   "outputs": [
    {
     "name": "stdout",
     "output_type": "stream",
     "text": [
      "Model output:  JB Chemicals: neutral\n"
     ]
    }
   ],
   "source": [
    "tokenizer = AutoTokenizer.from_pretrained(\"./Models/ate/allenaitk-instruct-base-def-pos-lapt2014_iabsa1\")\n",
    "model = AutoModelForSeq2SeqLM.from_pretrained(\"./Models/ate/allenaitk-instruct-base-def-pos-lapt2014_iabsa1\")\n",
    "\n",
    "bos_instruction = \"\"\"Definition: The output will be the aspects (both implicit and explicit) and the aspects sentiment polarity. In cases where there are no aspects the output should be noaspectterm:none.\n",
    "    Positive example 1-\n",
    "    input: Would bet on Bosch and Wabco in the auto ancillary sector; likely to do well in\n",
    "    output: Pankaj Pandey:positive, \n",
    "    Positive example 2-\n",
    "    input: DIIs likely to lap up Rs 1 lakh crore bonds; UDAY brings cheers to PF & insurance funds\n",
    "    output: PF & insurance funds:positive\n",
    "    Negative example 1-\n",
    "    input: Govts decision to increase import duty on natural rubber will hurt Make in India initiative: Tyre makers\n",
    "    output: Tyre makers:negative\n",
    "    Negative example 2-\n",
    "    input: Strides Arcolab may see some more downside if the Mylan deal does not come through: Avinnash Gorakssakar.\n",
    "    output: Strides Arcolab:negative\n",
    "    Neutral example 1-\n",
    "    input: BSE, NSE to move 25 companies to restricted trade segment from October 7. \n",
    "    output: BSE, NSE:neutral\n",
    "    Neutral example 2-\n",
    "    input: D-Street trading: Mid & small cap stocks not yet out of the woods\n",
    "    output: Mid , small cap stocks:neutral\n",
    "    Now complete the following example-\n",
    "    input: \"\"\"\n",
    "delim_instruct = ''\n",
    "eos_instruct = ' \\noutput:'\n",
    "text = 'High pressure on pharma margins; buy JB Chemicals: Sharekhan'\n",
    "\n",
    "tokenized_text = tokenizer(bos_instruction + text + delim_instruct + eos_instruct, return_tensors=\"pt\")\n",
    "output = model.generate(tokenized_text.input_ids)\n",
    "print('Model output: ', tokenizer.decode(output[0], skip_special_tokens=True))"
   ]
  },
  {
   "cell_type": "code",
   "execution_count": null,
   "metadata": {},
   "outputs": [],
   "source": []
  }
 ],
 "metadata": {
  "colab": {
   "provenance": []
  },
  "kernelspec": {
   "display_name": "conda_amazonei_pytorch_latest_p37",
   "language": "python",
   "name": "conda_amazonei_pytorch_latest_p37"
  },
  "language_info": {
   "codemirror_mode": {
    "name": "ipython",
    "version": 3
   },
   "file_extension": ".py",
   "mimetype": "text/x-python",
   "name": "python",
   "nbconvert_exporter": "python",
   "pygments_lexer": "ipython3",
   "version": "3.7.10"
  }
 },
 "nbformat": 4,
 "nbformat_minor": 4
}
